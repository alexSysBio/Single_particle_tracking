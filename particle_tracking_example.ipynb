{
 "cells": [
  {
   "cell_type": "markdown",
   "metadata": {},
   "source": [
    "# Example of running the particle_tracking class and its associated functions for Single Particle Tracking\n",
    "\n",
    "This notebook provides an example for using the particle_tracking class. It is implemented on .nd2 microscopy images which were acquired using the JOBS module in NIS elements (Nikon / LIM). Every channel (e.g., Phase contrast, GFP etc) is save in a separate .nd2 file, and the stream acquisition of the particle fluorescence is also saved separately. The cells were segmented using a Unet (see Mäkelä, Papagiannakis *et al*,  https://doi.org/10.7554/eLife.97465.3) which stored the cell labels in .tif images. The particle_tracking class has been adapted to work with the respective data formats. \n",
    "\n",
    "Author: Alexandros Papagiannakis, HHMI at Stanford University, 2025"
   ]
  },
  {
   "cell_type": "markdown",
   "metadata": {},
   "source": [
    "## Generate file paths\n",
    "\n",
    "The code below can be used to generate the file paths that will be used as variables to initialize the particle_tracking class. These file paths are specific to the JOBS protocols applied to automate image and stream acquisition. "
   ]
  },
  {
   "cell_type": "code",
   "execution_count": 1,
   "metadata": {},
   "outputs": [
    {
     "ename": "IndentationError",
     "evalue": "expected an indented block after 'elif' statement on line 104 (particle_segmentation.py, line 107)",
     "output_type": "error",
     "traceback": [
      "Traceback \u001b[0;36m(most recent call last)\u001b[0m:\n",
      "\u001b[0m  File \u001b[1;32m/opt/anaconda3/lib/python3.12/site-packages/IPython/core/interactiveshell.py:3577\u001b[0m in \u001b[1;35mrun_code\u001b[0m\n    exec(code_obj, self.user_global_ns, self.user_ns)\u001b[0m\n",
      "\u001b[0m  Cell \u001b[1;32mIn[1], line 6\u001b[0m\n    import particle_tracking_UNET_for_GitHub as spt_gh\u001b[0m\n",
      "\u001b[0;36m  File \u001b[0;32m~/Documents/Visual_code/Single_particle_tracking/particle_tracking_UNET_for_GitHub.py:29\u001b[0;36m\n\u001b[0;31m    import particle_segmentation as ps\u001b[0;36m\n",
      "\u001b[0;36m  File \u001b[0;32m~/Documents/Visual_code/Single_particle_tracking/particle_segmentation.py:107\u001b[0;36m\u001b[0m\n\u001b[0;31m    return particle_centroid_list, particle_minor_axis_list, particle_major_axis_list, particle_aspect_ratio_list, particle_area_list\u001b[0m\n\u001b[0m    ^\u001b[0m\n\u001b[0;31mIndentationError\u001b[0m\u001b[0;31m:\u001b[0m expected an indented block after 'elif' statement on line 104\n"
     ]
    }
   ],
   "source": [
    "import os\n",
    "import warnings\n",
    "warnings.filterwarnings('ignore')\n",
    "import sys\n",
    "sys.path.append(os.path.join(os.path.abspath(os.getcwd()), \"/particle_tracking_UNET_for_GitHub.py\"))\n",
    "import particle_tracking_UNET_for_GitHub as spt_gh\n",
    "\n",
    "save_path = '/Users/alexandros/Downloads/test_data_466'\n",
    "images_path = '/Volumes/Data_01/Alex Papagiannakis/Microscopy/muNS/HDR_sensor/50percent_light_300frames/06132021_CJW6723_30oC_GlyCAAT_50uM/20210613_203659_466'\n",
    "masks_path = '/Volumes/Data_01/Alex Papagiannakis/Microscopy/muNS/HDR_sensor/50percent_light_300frames/06132021_CJW6723_30oC_GlyCAAT_50uM/06132021_phase_tif/20210613_203659_466_tif'\n",
    "stream_channel = 'FITC'\n",
    "phase_channel = 'Trans'\n",
    "signal_channel = 'mCherry'\n",
    "interval = 50\n",
    "images_names = os.listdir(images_path)\n",
    "masks_names = os.listdir(masks_path)\n",
    "positions = list(range(0,50))\n",
    "experiment = '20210613_203659_466'\n",
    "\n",
    "position = 0\n",
    "# This script iterates over the JOBS particle tracking output, and the Unet labeled masks\n",
    "if position <= 9:\n",
    "    position_string = 'Point000'+str(position)\n",
    "elif position > 9:\n",
    "    position_string = 'Point00'+str(position) # the JOBS xy positions are defined as Point\n",
    "# get the matching Unet path\n",
    "matching = [s for s in masks_names if position_string in s]\n",
    "matching = [s for s in matching if 'mask' in s][0]\n",
    "unet_path = masks_path + '/' + matching\n",
    "# get the matching stream images and snapshots\n",
    "matching = [s for s in images_names if position_string in s]\n",
    "fast_time_lapse_path = images_path + '/' + matching[0] \n",
    "snapshots_paths = [images_path + '/' + matching[2], images_path + '/' + matching[3], images_path + '/' + matching[1]]"
   ]
  },
  {
   "cell_type": "markdown",
   "metadata": {},
   "source": [
    "## Class initialization\n",
    "The image paths above, together with the experiment and CY position IDs will be used to initialize the class and store it in a variable called \"particle\""
   ]
  },
  {
   "cell_type": "code",
   "execution_count": null,
   "metadata": {},
   "outputs": [],
   "source": [
    "particle = spt_gh.particle_tracking(unet_path, snapshots_paths, fast_time_lapse_path, experiment, position, interval, save_path) #initialize the particle tracking class\n"
   ]
  },
  {
   "cell_type": "markdown",
   "metadata": {},
   "source": [
    "## Check cell segmentation\n",
    "The Unet cell segmentation will be checked. This step is also important to confirm that the Unet masks have been successfully incorporated in the class to match the phase contrast image. "
   ]
  },
  {
   "cell_type": "code",
   "execution_count": null,
   "metadata": {},
   "outputs": [],
   "source": [
    "particle.show_unet_masks() # visualize the cell segmentation"
   ]
  },
  {
   "cell_type": "markdown",
   "metadata": {},
   "source": [
    "## Test the particle segmentation parameters\n",
    "This interactive function can be used to test the particle segmentation parameters."
   ]
  },
  {
   "cell_type": "code",
   "execution_count": 4,
   "metadata": {},
   "outputs": [],
   "source": [
    "# particle.test_segmentation_parameters(10, post_process=True)\n",
    "# The input() function that is used here does not work in some Jupyter notebooks.\n",
    "# This function should work in any other full-Python kernel."
   ]
  },
  {
   "cell_type": "markdown",
   "metadata": {},
   "source": [
    "## Segment the particles\n",
    "The particle segmentation method is applied for 50 frames (since this is a test) using the following parameters:\n",
    "1. log_adaptive_parameters=[4, 1000, 99, 2, 9, -6, 0]\n",
    "2. min_particle_size=3\n",
    "3. max_particle_size=60\n",
    "4. min_particle_aspect_ratio=0.3\n",
    "5. post_processing_threshold=90\n",
    "6. box_size=7"
   ]
  },
  {
   "cell_type": "code",
   "execution_count": 5,
   "metadata": {},
   "outputs": [],
   "source": [
    "particle_df = particle.getting_the_particles(channel_offset=(0,0), log_adaptive_parameters=[4, 1000, 99, 2, 9, -6, 0], \n",
    "                                      min_particle_size=3, max_particle_size=60, min_particle_aspect_ratio=0.3,\n",
    "                                      post_processing_threshold=90, box_size=7, analysis_range=(0,particle.n_frames), \n",
    "                                      metric='raw pixels', operation='sum',  gaussian_fit_show = False) # particle segmentation"
   ]
  },
  {
   "cell_type": "code",
   "execution_count": 6,
   "metadata": {},
   "outputs": [],
   "source": [
    "particle_df.columns.tolist()"
   ]
  },
  {
   "cell_type": "markdown",
   "metadata": {},
   "source": [
    "## Particle tracking\n",
    "The stored particle_df Pandas DataFrame will be used to track the particles. Merged trajectories will be removed, the trajectories that have a length less than 1.7% of the total stream acquisition length in frames will also be removed, and non-overlapping trajectories that belong to the same cell will be merged to reconstruct maximum length trajectories. "
   ]
  },
  {
   "cell_type": "code",
   "execution_count": null,
   "metadata": {},
   "outputs": [],
   "source": [
    "particle_tracking_df = particle.run_particle_tracking(max_radius=8, memory=3, fluorescence_bandpass=(0.2,5), fraction_length=0.017, merged=True, cell_connect=True) # particle tracking"
   ]
  },
  {
   "cell_type": "code",
   "execution_count": null,
   "metadata": {},
   "outputs": [],
   "source": []
  },
  {
   "cell_type": "code",
   "execution_count": null,
   "metadata": {},
   "outputs": [],
   "source": []
  }
 ],
 "metadata": {
  "kernelspec": {
   "display_name": "base",
   "language": "python",
   "name": "python3"
  },
  "language_info": {
   "codemirror_mode": {
    "name": "ipython",
    "version": 3
   },
   "file_extension": ".py",
   "mimetype": "text/x-python",
   "name": "python",
   "nbconvert_exporter": "python",
   "pygments_lexer": "ipython3",
   "version": "3.12.4"
  }
 },
 "nbformat": 4,
 "nbformat_minor": 2
}
